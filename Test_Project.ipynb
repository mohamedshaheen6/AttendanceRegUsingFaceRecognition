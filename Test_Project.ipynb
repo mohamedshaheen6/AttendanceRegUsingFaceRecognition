{
 "cells": [
  {
   "cell_type": "code",
   "execution_count": 2,
   "id": "d5d3f5db",
   "metadata": {},
   "outputs": [],
   "source": [
    "#import packages\n",
    "import numpy as np\n",
    "import cv2\n",
    "import os\n",
    "import face_recognition"
   ]
  },
  {
   "cell_type": "code",
   "execution_count": 15,
   "id": "3ed2659b",
   "metadata": {},
   "outputs": [],
   "source": [
    "#Loading image and converting to RGB\n",
    "img_messi =  face_recognition.load_image_file(r'E:\\DS SM\\Project\\Dataset\\Leo Messi.jpg')\n",
    "img_messi = cv2.cvtColor(img_messi, cv2.COLOR_BGR2RGB)\n",
    "\n",
    "test_image = face_recognition.load_image_file(r\"E:\\DS SM\\Project\\TestData\\Messi Test.jpg\")\n",
    "test_image = cv2.cvtColor(test_image, cv2.COLOR_BGR2RGB)"
   ]
  },
  {
   "cell_type": "code",
   "execution_count": 5,
   "id": "7577d209",
   "metadata": {},
   "outputs": [],
   "source": [
    "#Face loaction and encoding\n",
    "face_color = (0,255,0)\n",
    "face_location = face_recognition.face_locations(img_messi)[0]\n",
    "face_encoding = face_recognition.face_encodings(img_messi)[0]\n",
    "   \n",
    "#print(face_location)\n",
    "#to get the face loaction values\n",
    "# top right , bottom left\n",
    "\n",
    "cv2.rectangle(img_messi,(face_location[3], face_location[0]) ,(face_location[1], face_location[2]), face_color , 2)\n",
    "\n",
    "cv2.imshow('image of messi', img_messi)\n",
    "cv2.waitKey()\n",
    "cv2.destroyAllWindows()"
   ]
  },
  {
   "cell_type": "code",
   "execution_count": 17,
   "id": "3f9099ff",
   "metadata": {},
   "outputs": [],
   "source": [
    "#Test image Location and encoding\n",
    "test_color = (0,0,255)\n",
    "test_location = face_recognition.face_locations(test_image)[0]\n",
    "test_encoding = face_recognition.face_encodings(test_image)[0]\n",
    "\n",
    "#print(test_location)\n",
    "\n",
    "cv2.rectangle(test_image,(test_location[3], test_location[0]) ,(test_location[1], test_location[2]), test_color, 2)\n",
    "\n",
    "cv2.imshow('test image of messi' , test_image)\n",
    "cv2.waitKey()\n",
    "cv2.destroyAllWindows()"
   ]
  },
  {
   "cell_type": "code",
   "execution_count": 19,
   "id": "00e758b3",
   "metadata": {},
   "outputs": [
    {
     "data": {
      "text/plain": [
       "'\\ntest_beckh = face_recognition.load_image_file(r\"E:\\\\DS SM\\\\Project\\\\TestData\\\\Beckham Test.jpg\")\\ntest_beckh = cv2.cvtColor(test_beckh, cv2.COLOR_BGR2RGB)\\n\\ntest_color = (0,0,255)\\ntest_location = face_recognition.face_locations(test_beckh)[0]\\ntest_encoding = face_recognition.face_encodings(test_beckh)[0]\\n\\ncv2.rectangle(test_beckh,(test_location[3], test_location[0]) ,(test_location[1], test_location[2]), test_color, 2)\\n\\ncv2.imshow(\\'test image of David\\' , test_beckh)\\ncv2.waitKey()\\ncv2.destroyAllWindows()\\n'"
      ]
     },
     "execution_count": 19,
     "metadata": {},
     "output_type": "execute_result"
    }
   ],
   "source": [
    "# Run below to cheack weather its working properly\n",
    "#The least face distance is the best\n",
    "\n",
    "\n",
    "'''\n",
    "test_beckh = face_recognition.load_image_file(r\"E:\\DS SM\\Project\\TestData\\Beckham Test.jpg\")\n",
    "test_beckh = cv2.cvtColor(test_beckh, cv2.COLOR_BGR2RGB)\n",
    "\n",
    "test_color = (0,0,255)\n",
    "test_location = face_recognition.face_locations(test_beckh)[0]\n",
    "test_encoding = face_recognition.face_encodings(test_beckh)[0]\n",
    "\n",
    "cv2.rectangle(test_beckh,(test_location[3], test_location[0]) ,(test_location[1], test_location[2]), test_color, 2)\n",
    "\n",
    "cv2.imshow('test image of David' , test_beckh)\n",
    "cv2.waitKey()\n",
    "cv2.destroyAllWindows()\n",
    "'''\n",
    "\n",
    "#comment the test image loaction & encoding cell before running this \n"
   ]
  },
  {
   "cell_type": "code",
   "execution_count": 18,
   "id": "04ba315a",
   "metadata": {},
   "outputs": [
    {
     "name": "stdout",
     "output_type": "stream",
     "text": [
      "[True] [0.43890173]\n"
     ]
    }
   ],
   "source": [
    "#compare faces and find Distance \n",
    "#the least distance will be the match\n",
    "\n",
    "# use the encoded variables of face image and test image respectively for finding distance\n",
    "\n",
    "result = face_recognition.compare_faces([face_encoding], test_encoding)\n",
    "face_distance = face_recognition.face_distance([face_encoding], test_encoding)\n",
    "print(result , face_distance)"
   ]
  },
  {
   "cell_type": "code",
   "execution_count": null,
   "id": "7f5aa4af",
   "metadata": {},
   "outputs": [],
   "source": []
  }
 ],
 "metadata": {
  "kernelspec": {
   "display_name": "Python 3 (ipykernel)",
   "language": "python",
   "name": "python3"
  },
  "language_info": {
   "codemirror_mode": {
    "name": "ipython",
    "version": 3
   },
   "file_extension": ".py",
   "mimetype": "text/x-python",
   "name": "python",
   "nbconvert_exporter": "python",
   "pygments_lexer": "ipython3",
   "version": "3.9.12"
  }
 },
 "nbformat": 4,
 "nbformat_minor": 5
}
